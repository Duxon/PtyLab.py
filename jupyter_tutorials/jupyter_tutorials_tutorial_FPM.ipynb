{
 "cells": [
  {
   "cell_type": "markdown",
   "metadata": {},
   "source": [
    "# ptyLab introduction (FP)\n",
    "\n",
    "ptyLab is a highly modular coding package which can be used for both conventional and Fourier ptychography. Due to the modular nature it is easy to modify the code for various tasks and add your own functions, such as a new reconstruction engine or a calibration routine. To understand ptyLab we need to understand the basic classes contained within, which are briefly outlined below:\n",
    "\n",
    "\n",
    " -  ExperimentalData - this class is used to import the experimental data from an .hdf5 file. If the file contains the experimental images stored as an image stack (called ptychogram), probe/LED positions and several experimental parameters, then the data can be successfully imported and reconstructed.\n",
    " -  Reconstruction - this class creates various objects from the immutable ExperimentalData class which will be optimized/updated i.e. are mutable. \n",
    " -  Params - this class stores parameters use for the reconstruction such that they could be exported/imported for different experiments\n",
    " -  Engines - all the engines used for the reconstruction are based on this class, which take the ExperimentalData and Optimizable objects as parameters and perform object/probe/pupil reconstruction.\n",
    " -  Monitor - visualization class used to display the reconstruction process\n",
    " -  CalibrationFPM - this package contains k-space position calibration routines caused by misaligned LED positions.\n"
   ]
  },
  {
   "cell_type": "code",
   "execution_count": 1,
   "metadata": {},
   "outputs": [],
   "source": [
    "import matplotlib\n",
    "import matplotlib.pyplot as plt\n",
    "import numpy as np\n",
    "%matplotlib inline"
   ]
  },
  {
   "cell_type": "code",
   "execution_count": 2,
   "metadata": {},
   "outputs": [
    {
     "name": "stdout",
     "output_type": "stream",
     "text": [
      "Cannot use pyqtgraph\n",
      "Pyqtgraph not available\n",
      "cupy not avialable\n",
      "Cupy unavailable\n",
      "Cupy not available, will not be able to run GPU based computation\n",
      "Cupy not available, will not be able to run GPU based computation\n",
      "Cupy not available, will not be able to run GPU based computation\n",
      "Cupy not available, will not be able to run GPU based computation\n",
      "Cupy not available, will not be able to run GPU based computation\n",
      "Cupy not available, will not be able to run GPU based computation\n",
      "Cupy not available, will not be able to run GPU based computation\n",
      "Cupy not available, will not be able to run GPU based computation\n",
      "Cupy not available, will not be able to run GPU based computation\n"
     ]
    }
   ],
   "source": [
    "from PtyLab.io import getExampleDataFolder\n",
    "from PtyLab import Engines\n",
    "import PtyLab"
   ]
  },
  {
   "cell_type": "code",
   "execution_count": 3,
   "metadata": {
    "scrolled": false
   },
   "outputs": [
    {
     "name": "stderr",
     "output_type": "stream",
     "text": [
      "Copying attribute wavelength\n",
      "Copying attribute dxd\n",
      "Copying attribute zled\n",
      "Copying attribute dxp\n"
     ]
    },
    {
     "name": "stdout",
     "output_type": "stream",
     "text": [
      "\"Unable to open object (object 'orientation' doesn't exist)\"\n"
     ]
    },
    {
     "ename": "AttributeError",
     "evalue": "'ExperimentalData' object has no attribute 'dxp'",
     "output_type": "error",
     "traceback": [
      "\u001b[1;31m---------------------------------------------------------------------------\u001b[0m",
      "\u001b[1;31mAttributeError\u001b[0m                            Traceback (most recent call last)",
      "Input \u001b[1;32mIn [3]\u001b[0m, in \u001b[0;36m<cell line: 5>\u001b[1;34m()\u001b[0m\n\u001b[0;32m      2\u001b[0m \u001b[38;5;66;03m# fileName = 'USAFTargetFPM.hdf5'\u001b[39;00m\n\u001b[0;32m      3\u001b[0m filePath \u001b[38;5;241m=\u001b[39m getExampleDataFolder() \u001b[38;5;241m/\u001b[39m fileName\n\u001b[1;32m----> 5\u001b[0m exampleData, reconstruction, params, monitor, engine, calib \u001b[38;5;241m=\u001b[39m \u001b[43mPtyLab\u001b[49m\u001b[38;5;241;43m.\u001b[39;49m\u001b[43measyInitialize\u001b[49m\u001b[43m(\u001b[49m\u001b[43mfilePath\u001b[49m\u001b[43m,\u001b[49m\u001b[43m \u001b[49m\u001b[43moperationMode\u001b[49m\u001b[38;5;241;43m=\u001b[39;49m\u001b[38;5;124;43m'\u001b[39;49m\u001b[38;5;124;43mFPM\u001b[39;49m\u001b[38;5;124;43m'\u001b[39;49m\u001b[43m)\u001b[49m\n",
      "File \u001b[1;32mc:\\users\\aiduka_t\\switchdrive\\ptylab\\ptylab.py\\PtyLab\\__init__.py:21\u001b[0m, in \u001b[0;36measyInitialize\u001b[1;34m(filename, engine, operationMode, dummyMonitor)\u001b[0m\n\u001b[0;32m     19\u001b[0m     \u001b[38;5;28;01mreturn\u001b[39;00m _easyInitializeCPM(filename, engine, operationMode, dummyMonitor)\n\u001b[0;32m     20\u001b[0m \u001b[38;5;28;01mif\u001b[39;00m operationMode \u001b[38;5;241m==\u001b[39m \u001b[38;5;124m\"\u001b[39m\u001b[38;5;124mFPM\u001b[39m\u001b[38;5;124m\"\u001b[39m:\n\u001b[1;32m---> 21\u001b[0m     \u001b[38;5;28;01mreturn\u001b[39;00m \u001b[43m_easyInitializeFPM\u001b[49m\u001b[43m(\u001b[49m\u001b[43mfilename\u001b[49m\u001b[43m,\u001b[49m\u001b[43m \u001b[49m\u001b[43mengine\u001b[49m\u001b[43m,\u001b[49m\u001b[43m \u001b[49m\u001b[43moperationMode\u001b[49m\u001b[43m,\u001b[49m\u001b[43m \u001b[49m\u001b[43mdummyMonitor\u001b[49m\u001b[43m)\u001b[49m\n\u001b[0;32m     22\u001b[0m \u001b[38;5;28;01melse\u001b[39;00m:\n\u001b[0;32m     23\u001b[0m     \u001b[38;5;28;01mraise\u001b[39;00m \u001b[38;5;167;01mNotImplementedError\u001b[39;00m()\n",
      "File \u001b[1;32mc:\\users\\aiduka_t\\switchdrive\\ptylab\\ptylab.py\\PtyLab\\__init__.py:49\u001b[0m, in \u001b[0;36m_easyInitializeFPM\u001b[1;34m(filename, engine_function, operationMode, dummy_monitor)\u001b[0m\n\u001b[0;32m     46\u001b[0m     monitor \u001b[38;5;241m=\u001b[39m Monitor()\n\u001b[0;32m     48\u001b[0m params \u001b[38;5;241m=\u001b[39m Params()\n\u001b[1;32m---> 49\u001b[0m reconstruction \u001b[38;5;241m=\u001b[39m \u001b[43mReconstruction\u001b[49m\u001b[43m(\u001b[49m\u001b[43mexperimentalData\u001b[49m\u001b[43m,\u001b[49m\u001b[43m \u001b[49m\u001b[43mparams\u001b[49m\u001b[43m)\u001b[49m\n\u001b[0;32m     50\u001b[0m reconstruction\u001b[38;5;241m.\u001b[39minitializeObjectProbe()\n\u001b[0;32m     51\u001b[0m calib \u001b[38;5;241m=\u001b[39m IlluminationCalibration(reconstruction, experimentalData)\n",
      "File \u001b[1;32mc:\\users\\aiduka_t\\switchdrive\\ptylab\\ptylab.py\\PtyLab\\Reconstruction\\Reconstruction.py:77\u001b[0m, in \u001b[0;36mReconstruction.__init__\u001b[1;34m(self, data, params)\u001b[0m\n\u001b[0;32m     75\u001b[0m \u001b[38;5;28mself\u001b[39m\u001b[38;5;241m.\u001b[39mdata \u001b[38;5;241m=\u001b[39m data\n\u001b[0;32m     76\u001b[0m \u001b[38;5;28mself\u001b[39m\u001b[38;5;241m.\u001b[39mparams \u001b[38;5;241m=\u001b[39m params\n\u001b[1;32m---> 77\u001b[0m \u001b[38;5;28;43mself\u001b[39;49m\u001b[38;5;241;43m.\u001b[39;49m\u001b[43mcopyAttributesFromExperiment\u001b[49m\u001b[43m(\u001b[49m\u001b[43mdata\u001b[49m\u001b[43m)\u001b[49m\n\u001b[0;32m     78\u001b[0m \u001b[38;5;28mself\u001b[39m\u001b[38;5;241m.\u001b[39mcomputeParameters()\n\u001b[0;32m     79\u001b[0m \u001b[38;5;28mself\u001b[39m\u001b[38;5;241m.\u001b[39minitializeSettings()\n",
      "File \u001b[1;32mc:\\users\\aiduka_t\\switchdrive\\ptylab\\ptylab.py\\PtyLab\\Reconstruction\\Reconstruction.py:120\u001b[0m, in \u001b[0;36mReconstruction.copyAttributesFromExperiment\u001b[1;34m(self, data)\u001b[0m\n\u001b[0;32m    118\u001b[0m     \u001b[38;5;28mself\u001b[39m\u001b[38;5;241m.\u001b[39mlogger\u001b[38;5;241m.\u001b[39merror(\u001b[38;5;124m\"\u001b[39m\u001b[38;5;124mCopying attribute \u001b[39m\u001b[38;5;132;01m%s\u001b[39;00m\u001b[38;5;124m\"\u001b[39m, key)\n\u001b[0;32m    119\u001b[0m     \u001b[38;5;66;03m# setattr(self, key, copy(np.array(getattr(data, key))))\u001b[39;00m\n\u001b[1;32m--> 120\u001b[0m     \u001b[38;5;28msetattr\u001b[39m(\u001b[38;5;28mself\u001b[39m, key, copy(\u001b[38;5;28;43mgetattr\u001b[39;49m\u001b[43m(\u001b[49m\u001b[43mdata\u001b[49m\u001b[43m,\u001b[49m\u001b[43m \u001b[49m\u001b[43mkey\u001b[49m\u001b[43m)\u001b[49m))\n\u001b[0;32m    122\u001b[0m \u001b[38;5;66;03m# set the distance, this has to be last\u001b[39;00m\n\u001b[0;32m    123\u001b[0m \u001b[38;5;28mself\u001b[39m\u001b[38;5;241m.\u001b[39mzo \u001b[38;5;241m=\u001b[39m \u001b[38;5;28mgetattr\u001b[39m(data, \u001b[38;5;124m\"\u001b[39m\u001b[38;5;124mzo\u001b[39m\u001b[38;5;124m\"\u001b[39m)\n",
      "\u001b[1;31mAttributeError\u001b[0m: 'ExperimentalData' object has no attribute 'dxp'"
     ]
    }
   ],
   "source": [
    "fileName = 'LungCarcinomaFPM.hdf5'\n",
    "# fileName = 'USAFTargetFPM.hdf5'\n",
    "filePath = getExampleDataFolder() / fileName\n",
    "\n",
    "exampleData, reconstruction, params, monitor, engine, calib = PtyLab.easyInitialize(filePath, operationMode='FPM')"
   ]
  },
  {
   "cell_type": "markdown",
   "metadata": {},
   "source": [
    "## ExperimentalData class\n",
    "The data must be stored as a \".hdf5\" file, which enables structured file storage. For ptychographic data, experimental parameters such as wavelength or pixel size can be convieniently stored together with illumination/ecoder positions and the actual raw images/diffraction data in a single file.\n",
    "\n",
    "A minimal list of fields required for ptyLab to work are:\n",
    "- ptychogram - 3D image/diffraction data stack \n",
    "- wavelength - illumination lambda\n",
    "- encoder - encoder positions / illumination angles\n",
    "- dxd - detector pixel size\n",
    "- zled - illumination-to-sample propagation distance\n",
    "- magnification - magnification of the microscope\n",
    "\n",
    "Also we have optional fields because they will either be computed later from the \"required_fields\" or are required for FPM, but not CPM (or vice-versa). If not provided by the user they will be set as None.\n",
    "- NA -  numerical aperture of the microscope\n",
    "\n",
    "The \".hdf5\" file must contain a field called \"ptychogram\" containing the experimental raw images as a 3D array of shape [numFrames,X,Y], where numFrames is the number of images corresponding to each illumination vector in the \"encoder\" and X-Y are the 2D image dimensions. \n",
    "\n",
    "The \".hdf5\" file must have a field called \"encoder\" containing the translation stage positions in units of meters (for CP) or the illumination angles in units of rad (for FP). The field \"encoder\" has a 2D shape [numFrames,2], where numFrames is the number of positions.\n",
    "\n",
    "We start off our demonstration by creating the ExperimentalData() class which is used to load the .hdf5 file. In this example the variable \"exampleData\" will contain our class."
   ]
  },
  {
   "cell_type": "code",
   "execution_count": null,
   "metadata": {},
   "outputs": [],
   "source": [
    "mean_img = np.mean(exampleData.ptychogram,0)"
   ]
  },
  {
   "cell_type": "markdown",
   "metadata": {
    "scrolled": false
   },
   "source": [
    "## Reconstruction class\n",
    "The ExperimentalData class contains immutable values. The Reconstruction class creates an object which will be mutable during the reconstruction or calibration procedure. It contains the reconstructed object and the probe/pupil. \n",
    "\n",
    "In FPM the intial object estimate can be computed from the raw data. \"reconstruction.initialObject = 'upsampled'\" will take the low-resolution raw data and create an upsampled object estimate via interpolation. The probe/pupil is set to be a clear circle representing a fully transparent aperture without any aberration. Once everything is set use \"initializeObjectProbe()\" method."
   ]
  },
  {
   "cell_type": "code",
   "execution_count": null,
   "metadata": {},
   "outputs": [],
   "source": [
    "reconstruction.initialProbe = 'circ'\n",
    "reconstruction.initialObject = 'upsampled'\n",
    "reconstruction.initializeObjectProbe()"
   ]
  },
  {
   "cell_type": "markdown",
   "metadata": {},
   "source": [
    "## Monitor class\n",
    "This class will create a monitor to visualize the reconstruction. "
   ]
  },
  {
   "cell_type": "code",
   "execution_count": null,
   "metadata": {},
   "outputs": [],
   "source": [
    "# Set monitor properties\n",
    "monitor.figureUpdateFrequency = 10\n",
    "monitor.objectPlot = 'complex'  \n",
    "monitor.verboseLevel = 'low'\n",
    "monitor.objectPlotZoom = .01 \n",
    "monitor.probePlotZoom = .01 "
   ]
  },
  {
   "cell_type": "markdown",
   "metadata": {},
   "source": [
    "## Params class\n",
    "This class holds various switches and parameters that can be specified before a reconstruction is carried out. For instance to determine whether the reconstruction is carried out on CPU or GPU, or to specify the order of probe positions to be random or sequential."
   ]
  },
  {
   "cell_type": "code",
   "execution_count": null,
   "metadata": {},
   "outputs": [],
   "source": [
    "params.gpuSwitch = True\n",
    "params.positionOrder = 'NA'\n",
    "params.probeBoundary = True\n",
    "params.adaptiveDenoisingSwitch = True"
   ]
  },
  {
   "cell_type": "markdown",
   "metadata": {},
   "source": [
    "## IlluminationCalibration class\n",
    "Calibration class based on \"Regina Eckert, Zachary F. Phillips, and Laura Waller, \"Efficient illumination angle self-calibration in Fourier ptychography,\" Appl. Opt. 57, 5434-5442 (2018)\""
   ]
  },
  {
   "cell_type": "code",
   "execution_count": null,
   "metadata": {},
   "outputs": [],
   "source": [
    "calib.plot = True\n",
    "calib.fit_mode ='SimilarityTransform'\n",
    "calib.calibrateRadius = True\n",
    "calib.runCalibration()"
   ]
  },
  {
   "cell_type": "markdown",
   "metadata": {},
   "source": [
    "## Engine class\n",
    "A specific engine can be imported (e.g. ePIE, mPIE etc.) and used on the reconstruction class to optimize our initial estimates for the object/probe. In this example we use the quasi-Newton method to reconstruct the data, by passing the reconstruction, exampleData and monitor objects to be used during the reconstruction"
   ]
  },
  {
   "cell_type": "code",
   "execution_count": null,
   "metadata": {
    "scrolled": false
   },
   "outputs": [],
   "source": [
    "engine = Engines.mqNewton(reconstruction, exampleData, params, monitor)\n",
    "engine.reconstruct()"
   ]
  },
  {
   "cell_type": "code",
   "execution_count": null,
   "metadata": {},
   "outputs": [],
   "source": [
    "from PtyLab.utils.utils import fft2c\n",
    "from PtyLab.utils.visualisation import modeTile\n",
    "plt.rcParams['figure.figsize'] = [12, 12]\n",
    "plt.rcParams['figure.dpi'] = 100 \n",
    "\n",
    "plt.subplot(121)\n",
    "plt.title('raw data')\n",
    "plt.imshow(abs(mean_img),cmap='gray')\n",
    "plt.subplot(122)\n",
    "plt.title('reconstruction')\n",
    "plt.imshow(abs(modeTile(fft2c(reconstruction.object))),cmap='gray')"
   ]
  },
  {
   "cell_type": "code",
   "execution_count": null,
   "metadata": {},
   "outputs": [],
   "source": [
    "# reconstruction.saveResults('results')"
   ]
  },
  {
   "cell_type": "code",
   "execution_count": null,
   "metadata": {},
   "outputs": [],
   "source": []
  },
  {
   "cell_type": "code",
   "execution_count": null,
   "metadata": {},
   "outputs": [],
   "source": []
  }
 ],
 "metadata": {
  "kernelspec": {
   "display_name": "Python 3 (ipykernel)",
   "language": "python",
   "name": "python3"
  },
  "language_info": {
   "codemirror_mode": {
    "name": "ipython",
    "version": 3
   },
   "file_extension": ".py",
   "mimetype": "text/x-python",
   "name": "python",
   "nbconvert_exporter": "python",
   "pygments_lexer": "ipython3",
   "version": "3.9.12"
  }
 },
 "nbformat": 4,
 "nbformat_minor": 4
}
